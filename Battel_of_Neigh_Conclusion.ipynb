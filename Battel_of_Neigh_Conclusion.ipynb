{
 "cells": [
  {
   "cell_type": "markdown",
   "metadata": {},
   "source": [
    "# The Battle of Neighborhoods"
   ]
  },
  {
   "cell_type": "markdown",
   "metadata": {},
   "source": [
    " In this notebook we will be exploring the medical facilities in the city of brooklyn in NY."
   ]
  },
  {
   "cell_type": "markdown",
   "metadata": {},
   "source": [
    "## Discussion"
   ]
  },
  {
   "cell_type": "markdown",
   "metadata": {},
   "source": [
    "#### In general, I am positively impressed with the overall organization, content and lab works presented during the Coursera IBM Certification Course\n",
    "#### I feel this Capstone project presented me a great opportunity to practice and apply the Data Science tools and methodologies learned.\n",
    "#### I have created a good project that I can present as an example to show my potential.\n",
    "#### I feel I have acquired a good starting point to become a professional Data Scientist and I will continue exploring to creating examples of practical cases."
   ]
  },
  {
   "cell_type": "markdown",
   "metadata": {},
   "source": [
    "### CONCLUSIONS"
   ]
  },
  {
   "cell_type": "markdown",
   "metadata": {},
   "source": [
    "#### I feel rewarded with the efforts, time and money spent. I believe this course with all the topics covered is well worthy of appreciation.\n",
    "#### This project has shown me a practical application to resolve a real situation that has impacting personal and financial impact using Data Science tools.\n",
    "#### The mapping with Folium is a very powerful technique to consolidate information and make the analysis and decision thoroughly and with confidence. I would recommend for use in similar situations.\n"
   ]
  }
 ],
 "metadata": {
  "kernelspec": {
   "display_name": "Python",
   "language": "python",
   "name": "conda-env-python-py"
  },
  "language_info": {
   "codemirror_mode": {
    "name": "ipython",
    "version": 3
   },
   "file_extension": ".py",
   "mimetype": "text/x-python",
   "name": "python",
   "nbconvert_exporter": "python",
   "pygments_lexer": "ipython3",
   "version": "3.6.12"
  }
 },
 "nbformat": 4,
 "nbformat_minor": 4
}
